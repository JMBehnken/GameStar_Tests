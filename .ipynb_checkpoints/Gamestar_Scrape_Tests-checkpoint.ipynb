{
 "cells": [
  {
   "cell_type": "markdown",
   "metadata": {},
   "source": [
    "# Sammeln der Daten der Spiele-Tests von Gamestar\n",
    "\n",
    "In dieser Datei werden die Schritte beschrieben, mit denen die Daten für die Computerspiele-Tests von [Gamestar](http://www.gamestar.de/) gesammelt werden. Die Auswertung der Daten finden Sie in der Datei Gamestar_Explore_Tests.ipynb.\n",
    "* Zuerst werden alle Links zu den Spieletests auf dieser [Seite](http://www.gamestar.de/index.cfm?pid=646&p=1) gesammelt\n",
    "* Als zweiter Schritt werden die einzelnen Wertungen der Spiele aufgerufen und zusätzliche Daten wie Publisher und Kategorie hinzugefügt"
   ]
  },
  {
   "cell_type": "code",
   "execution_count": 1,
   "metadata": {
    "collapsed": true
   },
   "outputs": [],
   "source": [
    "# Import aller benötigter Bibliotheken\n",
    "from urllib.request import urlopen\n",
    "from bs4 import BeautifulSoup\n",
    "import pandas as pd\n",
    "import numpy as np\n",
    "import pyprind\n",
    "import csv\n",
    "import re"
   ]
  },
  {
   "cell_type": "code",
   "execution_count": 2,
   "metadata": {},
   "outputs": [
    {
     "name": "stderr",
     "output_type": "stream",
     "text": [
      "0% [##############################] 100% | ETA: 00:00:00\n",
      "Total time elapsed: 00:07:55\n"
     ]
    }
   ],
   "source": [
    "# Anzahl der aufzurufenden Seiten, um alle Links zu den Spieletests abzurufen\n",
    "länge = 145\n",
    "\n",
    "# Variable zum Sammeln der Daten\n",
    "tests = []\n",
    "# Fortschrittsbalken zur Überwachung des Programmes zur Laufzeit\n",
    "pbar = pyprind.ProgBar(länge-1)\n",
    "# Iterieren über jede der Seiten mit den Links zu den Spieletests\n",
    "for i in range(1, länge):\n",
    "    # URL festlegen, html-Code runterladen und html-Code zum Untersuchen aufbereiten\n",
    "    url = 'http://www.gamestar.de/index.cfm?pid=646&p='+str(i)\n",
    "    html = urlopen(url)\n",
    "    bs = BeautifulSoup(html, 'lxml')\n",
    "    try:\n",
    "        # Heraussuchen aller verlinkten Spieletests auf der Seite\n",
    "        games = bs.findAll('div', {'class':'teaserImage belazy'})\n",
    "        # Iterieren über jeden der gefundenen Spieletests auf der Seite\n",
    "        for elem in games:\n",
    "            try:\n",
    "                # Abspeichern der Wertung des Spieles\n",
    "                wertung = elem.find('div').find('a', {'class':''}).get_text()\n",
    "            except:\n",
    "                # Sollte keine Wertung vorhanden sein, leer lassen\n",
    "                wertung = ''\n",
    "            # Abspeichern des Spielenames\n",
    "            name = elem.nextSibling.nextSibling.find('h3').get_text().rsplit(' ', 2)[0]\n",
    "            # Abspeichern des Links, unter dem die Wertung des Spieles genauer aufgeschlüsselt ist\n",
    "            link = 'http://www.gamestar.de'+elem.find('a', {'class':'linkProductM'})['href']\n",
    "            try:\n",
    "                # Abspeichern des Release-Datums des Spieles\n",
    "                release = elem.nextSibling.nextSibling.find('div', {'class':'genreReleaseDate'}).get_text().split('\\n')[2]\n",
    "            except:\n",
    "                # Sollte kein Release-Datum vorhanden sein, ler lassen\n",
    "                release = ''\n",
    "            # Die gesammelten Daten zusammen abspeichern\n",
    "            tests.append([wertung, name, release, link])\n",
    "    except:pass\n",
    "    pbar.update()"
   ]
  },
  {
   "cell_type": "markdown",
   "metadata": {},
   "source": [
    "Zu diesem Zeitpunkt im Programm liegen alle Spieletests von [Gamestar](http://www.gamestar.de) mit ihrer Wertung, ihrem Namen, ihrem Release-Datum und einem Link für die aufgeschlüsselte Wertung vor"
   ]
  },
  {
   "cell_type": "code",
   "execution_count": 3,
   "metadata": {
    "collapsed": true
   },
   "outputs": [],
   "source": [
    "# Laden der Daten in einen DataFrame für eine bessere Handhabung\n",
    "df = pd.DataFrame(tests, columns=['Wertung', 'Name', 'Release', 'Link'])\n",
    "\n",
    "# Dictionary, um die Quartale für die Spiele zu ergänzen\n",
    "quartale = {'Januar':1, 'Februar':1, 'März':1, 'April':2, 'Mai':2, 'Juni':2, 'Juli':3, 'August':3, 'September':3, 'Oktober':4, 'November':4, 'Dezember':4 }\n",
    "\n",
    "release_date = []\n",
    "# Jedes Release-Datum wird aufgespalten in den Tag, Monat, Jahr und das Quartal, in dem es veröffentlicht wurde\n",
    "for elem in df['Release']:\n",
    "    try:\n",
    "        # Berechnen des Tages\n",
    "        day = re.search('([0-9]{2})\\.', elem).group(1)\n",
    "    except:\n",
    "        day = ''\n",
    "    try:\n",
    "        # Berechnen des Monats\n",
    "        month = re.search('[^\\W\\d_]+', elem).group(0)\n",
    "        quartal = quartale[month]\n",
    "    except:\n",
    "        month = ''\n",
    "        try:\n",
    "            # Berechnen des Quartals\n",
    "            quartal = re.search('([0-9])\\.', elem).group(1)\n",
    "        except:\n",
    "            quartal = ''\n",
    "    try:\n",
    "        # Berechnen des Jahres\n",
    "        year = re.search('[0-9]+$', elem).group(0)\n",
    "    except:\n",
    "        year = ''\n",
    "    release_date.append([day, month, year, quartal])\n",
    "    \n",
    "# Hinzufügen der neu berechneten Daten zu den schon gesammelten\n",
    "df2 = pd.DataFrame(release_date, columns=['Tag', 'Monat', 'Jahr', 'Quartal'])\n",
    "game = pd.concat([df, df2], axis=1).drop('Release', axis=1)\n",
    "game[['Wertung', 'Tag', 'Jahr', 'Quartal']] = game[['Wertung', 'Tag', 'Jahr', 'Quartal']].apply(pd.to_numeric)\n",
    "\n",
    "# Sicherheitskopie der Daten als csv-Datei\n",
    "game.to_csv('build/Gamestar_Test_Links.csv', index=False, encoding='utf-8')"
   ]
  },
  {
   "cell_type": "code",
   "execution_count": 2,
   "metadata": {},
   "outputs": [
    {
     "name": "stdout",
     "output_type": "stream",
     "text": [
      "Es liegen momentan 1420 Links zu Spieletests vor.\n"
     ]
    }
   ],
   "source": [
    "# Laden der Sicherheitskopie\n",
    "game = pd.read_csv('build/Gamestar_Test_Links.csv')\n",
    "print('Es liegen momentan {} Links zu Spieletests vor.'.format(game.shape[0]))"
   ]
  },
  {
   "cell_type": "markdown",
   "metadata": {},
   "source": [
    "In diesem Abschnitt werden die abgespeicherten Links aufgerufen und zu jedem der Spieletests zusätzliche Informationen (Kategorie, Publisher) hinzugefügt."
   ]
  },
  {
   "cell_type": "code",
   "execution_count": 7,
   "metadata": {
    "scrolled": true
   },
   "outputs": [
    {
     "name": "stderr",
     "output_type": "stream",
     "text": [
      "0% [##############################] 100% | ETA: 00:00:00\n",
      "Total time elapsed: 00:41:56\n"
     ]
    }
   ],
   "source": [
    "# Initiieren einer Datei mit den zusätzlichen Testdaten\n",
    "with open('build/Gamestar_Test_Data.csv', 'w', encoding='utf-8') as csvFile:\n",
    "    writer = csv.writer(csvFile)\n",
    "    writer.writerow(['Plattform', 'Kategorie', 'Publisher'])\n",
    "\n",
    "artikel2 = []\n",
    "pbar = pyprind.ProgBar(len(game['Link']))\n",
    "# Iterieren über jeden der gesammelten Spieletest-Links\n",
    "for link in game['Link']:\n",
    "    try:\n",
    "        # Öffnen des Links\n",
    "        html = urlopen(link)\n",
    "        bs = BeautifulSoup(html, 'lxml')\n",
    "        header = bs.find('div', {'class':'productHeadTitle'}).get_text()\n",
    "    except:pass\n",
    "    try:\n",
    "        # Abspeichern der getesteten Plattform\n",
    "        plattform = re.search('- (.+)', header).group(1)\n",
    "        if '-' in plattform:\n",
    "            plattform = plattform.rsplit('- ')[-1]\n",
    "    except:\n",
    "        plattform = ''\n",
    "    try:\n",
    "        # Abspeichern der Spiele-Kategorie\n",
    "        kategorie = re.search('.\\\\n(.*) \\\\xa0', header).group(1)\n",
    "    except:\n",
    "        kategorie = ''\n",
    "    try:\n",
    "        # Abspeichern des Publishers\n",
    "        publisher = re.search('Publisher: (.*) \\\\n', header).group(1)\n",
    "        if publisher == '-':\n",
    "            publisher = ''\n",
    "    except:\n",
    "        publisher = ''\n",
    "    \n",
    "    # Zusammenfügen der gesammelten Daten\n",
    "    artikel2.append([plattform, kategorie, publisher])\n",
    "    # Abspeichern der Daten in der initiierten csv-Datei\n",
    "    with open('build/Gamestar_Test_Data.csv', 'a', encoding='utf-8') as csvFile:\n",
    "        writer = csv.writer(csvFile)\n",
    "        writer.writerow([plattform, kategorie, publisher])\n",
    "    \n",
    "    pbar.update()"
   ]
  },
  {
   "cell_type": "code",
   "execution_count": 3,
   "metadata": {
    "scrolled": true
   },
   "outputs": [
    {
     "name": "stdout",
     "output_type": "stream",
     "text": [
      "Es liegen momentan Daten zu 1420 unterschiedlichen Spieletests vor.\n"
     ]
    }
   ],
   "source": [
    "# Laden beider csv-Dateien und zusammenfügen der Dateien für einen kompletten Datensatz\n",
    "data = pd.read_csv('build/Gamestar_Test_Data.csv')\n",
    "game = pd.read_csv('build/Gamestar_Test_Links.csv')\n",
    "df = pd.concat([game, data], axis=1)\n",
    "\n",
    "# Abspeichern des kompletten Datensatzes in einer csv-Datei\n",
    "df.to_csv('build/Gamestar_Test_Combined.csv', index=False, encoding='utf-8')\n",
    "print('Es liegen momentan Daten zu {} unterschiedlichen Spieletests vor.'.format(df.shape[0]))"
   ]
  },
  {
   "cell_type": "markdown",
   "metadata": {
    "collapsed": true
   },
   "source": [
    "Sollte einer der abgefragten Werte für einen Spieletest nicht vorhanden gewesen sein, so ist dies in der csv-Datei mit einem leeren Eintrag gekennzeichnet."
   ]
  }
 ],
 "metadata": {
  "anaconda-cloud": {},
  "kernelspec": {
   "display_name": "Python 3",
   "language": "python",
   "name": "python3"
  },
  "language_info": {
   "codemirror_mode": {
    "name": "ipython",
    "version": 3
   },
   "file_extension": ".py",
   "mimetype": "text/x-python",
   "name": "python",
   "nbconvert_exporter": "python",
   "pygments_lexer": "ipython3",
   "version": "3.6.1"
  }
 },
 "nbformat": 4,
 "nbformat_minor": 1
}
