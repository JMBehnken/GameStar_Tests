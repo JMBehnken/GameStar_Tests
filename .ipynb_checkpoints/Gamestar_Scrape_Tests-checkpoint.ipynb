{
 "cells": [
  {
   "cell_type": "code",
   "execution_count": 1,
   "metadata": {
    "collapsed": true
   },
   "outputs": [],
   "source": [
    "from urllib.request import urlopen\n",
    "from bs4 import BeautifulSoup\n",
    "import pandas as pd\n",
    "import numpy as np\n",
    "import pyprind\n",
    "import csv\n",
    "import re"
   ]
  },
  {
   "cell_type": "code",
   "execution_count": 2,
   "metadata": {},
   "outputs": [
    {
     "name": "stderr",
     "output_type": "stream",
     "text": [
      "0% [##############################] 100% | ETA: 00:00:00\n",
      "Total time elapsed: 00:07:55\n"
     ]
    }
   ],
   "source": [
    "länge = 145\n",
    "\n",
    "tests = []\n",
    "pbar = pyprind.ProgBar(länge-1)\n",
    "for i in range(1, länge):\n",
    "    url = 'http://www.gamestar.de/index.cfm?pid=646&p='+str(i)\n",
    "    html = urlopen(url)\n",
    "    bs = BeautifulSoup(html, 'lxml')\n",
    "    try:\n",
    "        games = bs.findAll('div', {'class':'teaserImage belazy'})\n",
    "        for elem in games:\n",
    "            try:\n",
    "                wertung = elem.find('div').find('a', {'class':''}).get_text()\n",
    "            except:\n",
    "                wertung = ''\n",
    "            name = elem.nextSibling.nextSibling.find('h3').get_text().rsplit(' ', 2)[0]\n",
    "            link = 'http://www.gamestar.de'+elem.find('a', {'class':'linkProductM'})['href']\n",
    "            try:\n",
    "                release = elem.nextSibling.nextSibling.find('div', {'class':'genreReleaseDate'}).get_text().split('\\n')[2]\n",
    "            except:\n",
    "                release = ''\n",
    "            tests.append([wertung, name, release, link])\n",
    "    except:pass\n",
    "    pbar.update()"
   ]
  },
  {
   "cell_type": "code",
   "execution_count": 3,
   "metadata": {
    "collapsed": true
   },
   "outputs": [],
   "source": [
    "df = pd.DataFrame(tests, columns=['Wertung', 'Name', 'Release', 'Link'])\n",
    "\n",
    "quartale = {'Januar':1, 'Februar':1, 'März':1, 'April':2, 'Mai':2, 'Juni':2, 'Juli':3, 'August':3, 'September':3, 'Oktober':4, 'November':4, 'Dezember':4 }\n",
    "\n",
    "release_date = []\n",
    "for elem in df['Release']:\n",
    "    try:\n",
    "        day = re.search('([0-9]{2})\\.', elem).group(1)\n",
    "    except:\n",
    "        day = ''\n",
    "    try:\n",
    "        month = re.search('[^\\W\\d_]+', elem).group(0)\n",
    "        quartal = quartale[month]\n",
    "    except:\n",
    "        month = ''\n",
    "        try:\n",
    "            quartal = re.search('([0-9])\\.', elem).group(1)\n",
    "        except:\n",
    "            quartal = ''\n",
    "    try:\n",
    "        year = re.search('[0-9]+$', elem).group(0)\n",
    "    except:\n",
    "        year = ''\n",
    "    release_date.append([day, month, year, quartal])\n",
    "    \n",
    "df2 = pd.DataFrame(release_date, columns=['Tag', 'Monat', 'Jahr', 'Quartal'])\n",
    "game = pd.concat([df, df2], axis=1).drop('Release', axis=1)\n",
    "game[['Wertung', 'Tag', 'Jahr', 'Quartal']] = game[['Wertung', 'Tag', 'Jahr', 'Quartal']].apply(pd.to_numeric)\n",
    "game.to_csv('build/Gamestar_Test_Links.csv', index=False, encoding='utf-8')"
   ]
  },
  {
   "cell_type": "code",
   "execution_count": 4,
   "metadata": {},
   "outputs": [
    {
     "data": {
      "text/plain": [
       "(1420, 7)"
      ]
     },
     "execution_count": 4,
     "metadata": {},
     "output_type": "execute_result"
    }
   ],
   "source": [
    "game = pd.read_csv('build/Gamestar_Test_Links.csv')\n",
    "game.shape"
   ]
  },
  {
   "cell_type": "code",
   "execution_count": 7,
   "metadata": {
    "scrolled": true
   },
   "outputs": [
    {
     "name": "stderr",
     "output_type": "stream",
     "text": [
      "0% [##############################] 100% | ETA: 00:00:00\n",
      "Total time elapsed: 00:41:56\n"
     ]
    }
   ],
   "source": [
    "with open('build/Gamestar_Test_Data.csv', 'w', encoding='utf-8') as csvFile:\n",
    "    writer = csv.writer(csvFile)\n",
    "    writer.writerow(['Plattform', 'Kategorie', 'Publisher'])\n",
    "\n",
    "artikel2 = []\n",
    "pbar = pyprind.ProgBar(len(game['Link']))\n",
    "for link in game['Link']:\n",
    "    try:\n",
    "        html = urlopen(link)\n",
    "        bs = BeautifulSoup(html, 'lxml')\n",
    "        header = bs.find('div', {'class':'productHeadTitle'}).get_text()\n",
    "    except:pass\n",
    "    try:\n",
    "        plattform = re.search('- (.+)', header).group(1)\n",
    "        if '-' in plattform:\n",
    "            plattform = plattform.rsplit('- ')[-1]\n",
    "    except:\n",
    "        plattform = ''\n",
    "    try:\n",
    "        kategorie = re.search('.\\\\n(.*) \\\\xa0', header).group(1)\n",
    "    except:\n",
    "        kategorie = ''\n",
    "    try:\n",
    "        publisher = re.search('Publisher: (.*) \\\\n', header).group(1)\n",
    "        if publisher == '-':\n",
    "            publisher = ''\n",
    "    except:\n",
    "        publisher = ''\n",
    "    \n",
    "    artikel2.append([plattform, kategorie, publisher])\n",
    "    with open('build/Gamestar_Test_Data.csv', 'a', encoding='utf-8') as csvFile:\n",
    "        writer = csv.writer(csvFile)\n",
    "        writer.writerow([plattform, kategorie, publisher])\n",
    "    \n",
    "    pbar.update()"
   ]
  },
  {
   "cell_type": "code",
   "execution_count": 8,
   "metadata": {
    "scrolled": true
   },
   "outputs": [
    {
     "data": {
      "text/plain": [
       "(1420, 10)"
      ]
     },
     "execution_count": 8,
     "metadata": {},
     "output_type": "execute_result"
    }
   ],
   "source": [
    "data = pd.read_csv('build/Gamestar_Test_Data.csv')\n",
    "game = pd.read_csv('build/Gamestar_Test_Links.csv')\n",
    "df = pd.concat([game, data], axis=1)\n",
    "df.to_csv('build/Gamestar_Test_Combined.csv', index=False, encoding='utf-8')\n",
    "df.shape"
   ]
  },
  {
   "cell_type": "code",
   "execution_count": null,
   "metadata": {
    "collapsed": true
   },
   "outputs": [],
   "source": []
  }
 ],
 "metadata": {
  "anaconda-cloud": {},
  "kernelspec": {
   "display_name": "Python 3",
   "language": "python",
   "name": "python3"
  },
  "language_info": {
   "codemirror_mode": {
    "name": "ipython",
    "version": 3
   },
   "file_extension": ".py",
   "mimetype": "text/x-python",
   "name": "python",
   "nbconvert_exporter": "python",
   "pygments_lexer": "ipython3",
   "version": "3.6.1"
  }
 },
 "nbformat": 4,
 "nbformat_minor": 1
}
