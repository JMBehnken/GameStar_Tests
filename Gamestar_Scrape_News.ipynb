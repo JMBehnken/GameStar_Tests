{
 "cells": [
  {
   "cell_type": "code",
   "execution_count": null,
   "metadata": {
    "collapsed": true
   },
   "outputs": [],
   "source": [
    "import matplotlib.pyplot as plt\n",
    "from selenium import webdriver\n",
    "from bs4 import BeautifulSoup\n",
    "import seaborn as sns\n",
    "import pandas as pd\n",
    "import time"
   ]
  },
  {
   "cell_type": "code",
   "execution_count": null,
   "metadata": {},
   "outputs": [],
   "source": [
    "url = 'http://www.gamestar.de/news/'\n",
    "\n",
    "start = time.time()\n",
    "driver = webdriver.Firefox()\n",
    "driver.get(url)\n",
    "\n",
    "clicks = 1800\n",
    "wait = 1.5\n",
    "for _ in range(clicks):\n",
    "    try:\n",
    "        driver.find_element_by_xpath('//a[@title=\"Mehr anzeigen\"]').click()\n",
    "    except:\n",
    "        pass\n",
    "    time.sleep(wait)\n",
    "ende = time.time()\n",
    "print('Dauer für {} Klicks mit jeweils {}s Wartezeit: {}'.format(clicks, wait, ende-start))"
   ]
  },
  {
   "cell_type": "code",
   "execution_count": null,
   "metadata": {
    "collapsed": true
   },
   "outputs": [],
   "source": [
    "html = driver.page_source\n",
    "driver.close()"
   ]
  },
  {
   "cell_type": "code",
   "execution_count": null,
   "metadata": {
    "collapsed": true
   },
   "outputs": [],
   "source": [
    "bs = BeautifulSoup(html, 'lxml')"
   ]
  },
  {
   "cell_type": "code",
   "execution_count": null,
   "metadata": {
    "scrolled": false
   },
   "outputs": [],
   "source": [
    "data = []\n",
    "for elem in bs.find('span', {'class':'box-reload'}).findAll('div'):\n",
    "    for div in elem.findAll('div'):\n",
    "        if div.has_attr('class'):\n",
    "            if div['class']==['col-xs-12', 'm-t-2', 'm-b-05']:\n",
    "                day = div.get_text().split(' ')[-1]\n",
    "            elif div['class']==['media', 'news-list', 'article-list', 'm-b-0']:\n",
    "                time = div.find('span', {'class':'info news-info'}).get_text()\n",
    "                text = div.find('a')['title']\n",
    "                comments = div.find('span', {'class':'info-small'}).get_text()\n",
    "                data.append([day+' '+time, text, int(comments)])\n",
    "            else:\n",
    "                pass\n",
    "            \n",
    "df = pd.DataFrame(data, columns=['Date', 'Title', 'Comments'])\n",
    "df['Date'] = pd.to_datetime(df['Date'], dayfirst=True)\n",
    "df = df.set_index('Date')\n",
    "\n",
    "def getMainTopic(x):\n",
    "    return x.split(' - ')[0]\n",
    "\n",
    "df['Topic'] = df['Title'].apply(lambda x: getMainTopic(x))\n",
    "df.to_csv('build/Gamestar_News.csv')"
   ]
  },
  {
   "cell_type": "code",
   "execution_count": null,
   "metadata": {
    "collapsed": true
   },
   "outputs": [],
   "source": []
  }
 ],
 "metadata": {
  "kernelspec": {
   "display_name": "Python 3",
   "language": "python",
   "name": "python3"
  },
  "language_info": {
   "codemirror_mode": {
    "name": "ipython",
    "version": 3
   },
   "file_extension": ".py",
   "mimetype": "text/x-python",
   "name": "python",
   "nbconvert_exporter": "python",
   "pygments_lexer": "ipython3",
   "version": "3.6.1"
  }
 },
 "nbformat": 4,
 "nbformat_minor": 2
}
